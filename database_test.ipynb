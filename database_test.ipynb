{
 "cells": [
  {
   "cell_type": "code",
   "execution_count": null,
   "metadata": {},
   "outputs": [],
   "source": [
    "from tanakinator.models import init, db"
   ]
  },
  {
   "cell_type": "code",
   "execution_count": null,
   "metadata": {},
   "outputs": [],
   "source": [
    "init()"
   ]
  },
  {
   "cell_type": "code",
   "execution_count": null,
   "metadata": {},
   "outputs": [],
   "source": [
    "from tanakinator import models"
   ]
  },
  {
   "cell_type": "code",
   "execution_count": null,
   "metadata": {},
   "outputs": [],
   "source": [
    "solution_names = [\"英語\", \"Python\", \"C++\", \"日本語\"]\n",
    "question_messages = [\n",
    "    \"プログラミング言語ですか？\",\n",
    "    \"インタプリタ型言語ですか？\",\n",
    "    \"世界で広く使われていますか？\"\n",
    "]\n",
    "feature_matrix = [\n",
    "    [-1.0, -1.0,  1.0],\n",
    "    [ 1.0,  1.0,  1,0],\n",
    "    [ 1.0, -1.0,  1.0],\n",
    "    [-1.0, -1.0, -1.0]\n",
    "]"
   ]
  },
  {
   "cell_type": "code",
   "execution_count": null,
   "metadata": {},
   "outputs": [],
   "source": [
    "try:\n",
    "    for s_name in solution_names:\n",
    "        s = models.Solution()\n",
    "        s.name = s_name\n",
    "        db.session.add(s)\n",
    "        db.session.commit()\n",
    "\n",
    "    for q_message in question_messages:\n",
    "        q = models.Question()\n",
    "        q.message = q_message\n",
    "        db.session.add(q)\n",
    "        db.session.commit()\n",
    "except:\n",
    "    print(\"rejected.\")\n",
    "    db.session.rollback()"
   ]
  },
  {
   "cell_type": "code",
   "execution_count": null,
   "metadata": {},
   "outputs": [],
   "source": [
    "for s in models.Solution.query.all():\n",
    "    for q in models.Question.query.all():\n",
    "        s_idx = solution_names.index(s.name)\n",
    "        q_idx = question_messages.index(q.message)\n",
    "        value = feature_matrix[s_idx][q_idx]\n",
    "\n",
    "        f = models.Feature()\n",
    "        f.solution = s\n",
    "        f.question = q\n",
    "        f.value = value\n",
    "        try:\n",
    "            db.session.add(f)\n",
    "            db.session.commit()\n",
    "        except:\n",
    "            print(\"rejected.\")\n",
    "            db.session.rollback()"
   ]
  },
  {
   "cell_type": "code",
   "execution_count": null,
   "metadata": {},
   "outputs": [],
   "source": [
    "for s in models.Solution.query.all():\n",
    "    print(f\"name: {s.name}\")\n",
    "    for f in s.features:\n",
    "        question_message = f.question.message\n",
    "        answer = 'はい．' if f.value >= 0.0 else 'いいえ．'\n",
    "        print(f\"\\tQ.{question_message}\")\n",
    "        print(f\"\\tA.{answer}\\n\")"
   ]
  },
  {
   "cell_type": "code",
   "execution_count": null,
   "metadata": {},
   "outputs": [],
   "source": [
    "answers = []\n",
    "\n",
    "answer_values = []\n",
    "for q in question_messages:\n",
    "    ans = input(q + \"[y/n]\")\n",
    "    if ans != 'y' and ans != 'n':\n",
    "        raise RuntimeError(\"Invalid answer.\")\n",
    "    ans = 1.0 if ans == 'y' else -1.0\n",
    "    answer_values.append(float(ans))\n",
    "\n",
    "for q_msg, ans in zip(question_messages, answer_values):\n",
    "    a  = models.Answer()\n",
    "    q = db.session.query(models.Question).filter_by(message=q_msg).first()\n",
    "    a.question = q\n",
    "    a.value = ans\n",
    "    answers.append(a)"
   ]
  },
  {
   "cell_type": "code",
   "execution_count": null,
   "metadata": {},
   "outputs": [],
   "source": [
    "score_table = {s.id: 0.0 for s in models.Solution.query.all()}\n",
    "for ans in answers:\n",
    "    q_features = db.session.query(models.Feature).filter_by(question_id=ans.question.id)\n",
    "    for f in q_features:\n",
    "        score = ans.value * f.value\n",
    "        score_table[f.solution.id] += score\n",
    "\n",
    "print(score_table)\n",
    "most_likely_solution = models.Solution.query.get(max(score_table, key=score_table.get))\n",
    "print(most_likely_solution.name)"
   ]
  }
 ],
 "metadata": {
  "kernelspec": {
   "display_name": "Python 3",
   "language": "python",
   "name": "python3"
  },
  "language_info": {
   "codemirror_mode": {
    "name": "ipython",
    "version": 3
   },
   "file_extension": ".py",
   "mimetype": "text/x-python",
   "name": "python",
   "nbconvert_exporter": "python",
   "pygments_lexer": "ipython3",
   "version": "3.6.9"
  }
 },
 "nbformat": 4,
 "nbformat_minor": 4
}
